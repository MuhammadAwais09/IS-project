{
 "cells": [
  {
   "cell_type": "code",
   "execution_count": 10,
   "id": "baac2e8a",
   "metadata": {},
   "outputs": [],
   "source": [
    "import random\n",
    "import pandas as pd"
   ]
  },
  {
   "cell_type": "code",
   "execution_count": 11,
   "id": "332749b1",
   "metadata": {},
   "outputs": [],
   "source": [
    "def gcd(a, b):\n",
    "    while b != 0:\n",
    "        a, b = b, a % b\n",
    "    return a"
   ]
  },
  {
   "cell_type": "code",
   "execution_count": 12,
   "id": "cd26dde4",
   "metadata": {},
   "outputs": [],
   "source": [
    "def is_prime(num):\n",
    "    if num == 2:\n",
    "        return True\n",
    "    if num < 2 or num % 2 == 0:\n",
    "        return False\n",
    "    for n in range(3, int(num**0.5)+2, 2):\n",
    "        if num % n == 0:\n",
    "            return False\n",
    "    return True"
   ]
  },
  {
   "cell_type": "code",
   "execution_count": 13,
   "id": "b20842e4",
   "metadata": {},
   "outputs": [],
   "source": [
    "def multiplicative_inverse(e, phi):\n",
    "    d = 0\n",
    "    x1 = 0\n",
    "    x2 = 1\n",
    "    y1 = 1\n",
    "    temp_phi = phi\n",
    "    \n",
    "    while e > 0:\n",
    "        temp1 = (int)(temp_phi/e)\n",
    "        temp2 = temp_phi - temp1 * e\n",
    "        temp_phi = e\n",
    "        e = temp2\n",
    "        \n",
    "        x = x2- temp1* x1\n",
    "        y = d - temp1 * y1\n",
    "        \n",
    "        x2 = x1\n",
    "        x1 = x\n",
    "        d = y1\n",
    "        y1 = y\n",
    "    \n",
    "    if temp_phi == 1:\n",
    "        return d + phi\n"
   ]
  },
  {
   "cell_type": "code",
   "execution_count": 15,
   "id": "a3dab133",
   "metadata": {},
   "outputs": [],
   "source": [
    "def generate_keypair(p, q, r):\n",
    "    if not (is_prime(p) and is_prime(q)):\n",
    "        raise ValueError('Both numbers must be prime.')\n",
    "    elif p == q:\n",
    "        raise ValueError('p and q cannot be equal')\n",
    "\n",
    "    n = p * q * r\n",
    "\n",
    "   \n",
    "    phi = (p-1) * (q-1) * (r-1)\n",
    "\n",
    "   \n",
    "    e = random.randrange(1, phi)\n",
    "\n",
    "    g = gcd(e, phi)\n",
    "    \n",
    "    while g != 1:\n",
    "        e = random.randrange(1, phi)\n",
    "        g = gcd(e, phi)    \n",
    "        \n",
    "    d = multiplicative_inverse(e, phi)\n",
    "    \n",
    "    return ((e, n), (d, n), phi)\n"
   ]
  },
  {
   "cell_type": "code",
   "execution_count": 16,
   "id": "25fe8e03",
   "metadata": {},
   "outputs": [],
   "source": [
    "def encrypt(plaintext):\n",
    "    data1 = pd.read_csv(\"data1.csv\") \n",
    "    data2 = pd.read_csv(\"data2.csv\")\n",
    "\n",
    "    key = int(data2['0'][1]) # e\n",
    "    n = int(data1['0'][3])\n",
    "\n",
    "\n",
    "    cipher = [(ord(char) ** int(key)) % n for char in plaintext]\n",
    "    return cipher"
   ]
  },
  {
   "cell_type": "code",
   "execution_count": 17,
   "id": "3daa3a92",
   "metadata": {},
   "outputs": [],
   "source": [
    "def decrypt(ciphertext):\n",
    "    data1 = pd.read_csv(\"data1.csv\")\n",
    "    data2 = pd.read_csv(\"data2.csv\")\n",
    "\n",
    "    key = int(data2['0'][2]) # d\n",
    "    n = int(data1['0'][3])\n",
    "\n",
    "    plain = [chr((char ** key) % n) for char in ciphertext]\n",
    "    return ''.join(plain)\n",
    "    "
   ]
  },
  {
   "cell_type": "code",
   "execution_count": 18,
   "id": "f0e8e936",
   "metadata": {},
   "outputs": [
    {
     "name": "stdout",
     "output_type": "stream",
     "text": [
      "\n",
      "\n",
      "Modified RSA Encrypter/ Decrypter\n"
     ]
    }
   ],
   "source": [
    "if __name__ == '__main__':\n",
    "    '''\n",
    "    Detect if the script is being run directly by the user\n",
    "    '''\n",
    "\n",
    "    print(\"\\n\\nModified RSA Encrypter/ Decrypter\")\n",
    "\n",
    "    primes=[]\n",
    "    total_no_primes = 0\n",
    "    with open('primes.txt') as pfile:\n",
    "        for line in pfile:\n",
    "            primes.append(int(line))\n",
    "            total_no_primes += 1\n",
    "    p = primes[random.randint(1, total_no_primes-1)]\n",
    "    q = primes[random.randint(1, total_no_primes-1)]\n",
    "    r = primes[random.randint(1, total_no_primes-1)]\n",
    "\n"
   ]
  },
  {
   "cell_type": "code",
   "execution_count": 19,
   "id": "ad0cc8f7",
   "metadata": {},
   "outputs": [
    {
     "name": "stdout",
     "output_type": "stream",
     "text": [
      "Generating your public/private keypairs now . . .\n",
      "\n",
      "Your public key is  (22903, 65087)  and your private key is  (29767, 65087)\n"
     ]
    }
   ],
   "source": [
    "print(\"Generating your public/private keypairs now . . .\")\n",
    "public, private, phi = generate_keypair(p, q, r)\n",
    "print(\"\\nYour public key is \", public ,\" and your private key is \", private)\n",
    "\n",
    "data1 = [p, q, phi, public[1]]  \n",
    "df = pd.DataFrame(data1)\n",
    "df.to_csv('data1.csv') \n",
    "data2 = [r, public[0], private[0]] #  r, e, d\n",
    "df = pd.DataFrame(data2)\n",
    "df.to_csv('data2.csv')"
   ]
  },
  {
   "cell_type": "code",
   "execution_count": 20,
   "id": "cd69f5a1",
   "metadata": {},
   "outputs": [
    {
     "name": "stdout",
     "output_type": "stream",
     "text": [
      "\n",
      "Enter a message to encrypt with your public key: this is a security enhanced\n",
      "\n",
      "Your encrypted message is: \n",
      "406855197945602320805072045602320805072038800507203208030643490164119751643456024068546420507203064344627519793880044627490163064362327\n",
      "\n",
      "Decrypting message with private key  (29767, 65087)  . . .\n",
      "\n",
      "Your message is:\n",
      "this is a security enhanced\n"
     ]
    }
   ],
   "source": [
    "message = input(\"\\nEnter a message to encrypt with your public key: \")\n",
    "encrypted_msg = encrypt(message)\n",
    "print(\"\\nYour encrypted message is: \")\n",
    "print(''.join([str(x) for x in encrypted_msg]))\n",
    "print(\"\\nDecrypting message with private key \", private ,\" . . .\")\n",
    "print(\"\\nYour message is:\")\n",
    "print(decrypt(encrypted_msg))\n"
   ]
  },
  {
   "cell_type": "code",
   "execution_count": null,
   "id": "d12d4647",
   "metadata": {},
   "outputs": [],
   "source": []
  }
 ],
 "metadata": {
  "kernelspec": {
   "display_name": "Python 3 (ipykernel)",
   "language": "python",
   "name": "python3"
  },
  "language_info": {
   "codemirror_mode": {
    "name": "ipython",
    "version": 3
   },
   "file_extension": ".py",
   "mimetype": "text/x-python",
   "name": "python",
   "nbconvert_exporter": "python",
   "pygments_lexer": "ipython3",
   "version": "3.10.7"
  }
 },
 "nbformat": 4,
 "nbformat_minor": 5
}
